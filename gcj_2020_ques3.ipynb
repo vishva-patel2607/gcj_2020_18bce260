{
 "cells": [
  {
   "cell_type": "code",
   "execution_count": null,
   "metadata": {},
   "outputs": [],
   "source": [
    "T=int(input())\n",
    "\n",
    "def getkey0(item):\n",
    "    return item[0]\n",
    "def getkey2(item):\n",
    "    return item[2]\n",
    "\n",
    "list1=[]\n",
    "list2=[]\n",
    "for i in range(T):\n",
    "    n=int(input())\n",
    "    list1.clear()\n",
    "    for x in range(n):\n",
    "        list2=[]\n",
    "        list2=[int(a) for a in input().split(\" \")]\n",
    "        list2.append(x)\n",
    "        list1.append(list2)\n",
    "    list1.sort(key=getkey0)\n",
    "    cs=-1\n",
    "    js=-1\n",
    "    flag=True\n",
    "    for a in list1:\n",
    "        ti=a[0]\n",
    "        ts=a[1]\n",
    "        if cs==-1:\n",
    "            cs=ts\n",
    "            a.append('C')\n",
    "        elif ti>=cs:\n",
    "            cs=ts\n",
    "            a.append('C')\n",
    "        elif ti<cs and ti>=js:\n",
    "            js=ts\n",
    "            a.append('J')\n",
    "        elif ti<cs and ti<js:\n",
    "            flag=False\n",
    "            break\n",
    "    if flag==False:\n",
    "        str=\"IMPOSSIBLE\"\n",
    "    else:\n",
    "        str=\"\"\n",
    "        list1.sort(key=getkey2)\n",
    "        str=str.join([a[3] for a in list1])\n",
    "    print(\"case #{}: {}\".format(i+1,str)) \n"
   ]
  }
 ],
 "metadata": {
  "kernelspec": {
   "display_name": "Python 3",
   "language": "python",
   "name": "python3"
  },
  "language_info": {
   "codemirror_mode": {
    "name": "ipython",
    "version": 3
   },
   "file_extension": ".py",
   "mimetype": "text/x-python",
   "name": "python",
   "nbconvert_exporter": "python",
   "pygments_lexer": "ipython3",
   "version": "3.7.4"
  }
 },
 "nbformat": 4,
 "nbformat_minor": 2
}
