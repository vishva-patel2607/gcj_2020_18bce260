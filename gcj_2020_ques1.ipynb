{
 "cells": [
  {
   "cell_type": "code",
   "execution_count": null,
   "metadata": {},
   "outputs": [],
   "source": [
    "import numpy as np\n",
    "\n",
    "T=int(input())\n",
    "list1=[]\n",
    "list2=[]\n",
    "for i in range(T):\n",
    "    n=int(input())\n",
    "    list1.clear()\n",
    "    for x in range(n):\n",
    "        list2.clear()\n",
    "        list2=[int(a) for a in input().split(\" \")]\n",
    "        list1+=list2\n",
    "    array=np.array(list1).reshape(n,n)\n",
    "    trace=np.trace(array)\n",
    "    r=0\n",
    "    c=0\n",
    "    for x in range(n):\n",
    "        if len(list(array[x,:])) != len(set(array[x,:])):\n",
    "            r+=1\n",
    "        if len(list(array[x,:])) != len(set(array[:,x])):\n",
    "            c+=1\n",
    "    print(\"case #{}: {} {} {}\".format(i+1,trace,r,c))"
   ]
  }
 ],
 "metadata": {
  "kernelspec": {
   "display_name": "Python 3",
   "language": "python",
   "name": "python3"
  },
  "language_info": {
   "codemirror_mode": {
    "name": "ipython",
    "version": 3
   },
   "file_extension": ".py",
   "mimetype": "text/x-python",
   "name": "python",
   "nbconvert_exporter": "python",
   "pygments_lexer": "ipython3",
   "version": "3.7.4"
  }
 },
 "nbformat": 4,
 "nbformat_minor": 2
}
